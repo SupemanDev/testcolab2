{
  "nbformat": 4,
  "nbformat_minor": 0,
  "metadata": {
    "colab": {
      "name": "sem06 \"logit_regression_sem.ipynb\"",
      "provenance": [],
      "collapsed_sections": []
    },
    "language_info": {
      "codemirror_mode": {
        "name": "ipython",
        "version": 2
      },
      "file_extension": ".py",
      "mimetype": "text/x-python",
      "name": "python",
      "nbconvert_exporter": "python",
      "pygments_lexer": "ipython2",
      "version": "2.7.15"
    },
    "kernelspec": {
      "display_name": "Python 2",
      "language": "python",
      "name": "python2"
    }
  },
  "cells": [
    {
      "cell_type": "markdown",
      "metadata": {
        "id": "-rv8GtBgowPq"
      },
      "source": [
        "##  Логистическая регрессия"
      ]
    },
    {
      "cell_type": "markdown",
      "metadata": {
        "id": "hQbPELrKowPr"
      },
      "source": [
        "   В машинном обучении задачей классификации называется ситуация, когда в качестве целевой переменнной $y$ (переменной которую мы хотим предсказать) выступает категориальная переменная. Это означает, что данная переменная задает разбиение нашего датасета на классы, которых может быть как 2, так и больше. \n",
        "   \n",
        "   Нашей задачей в таком случае становится построение алгоритма $a(x)$, который бы смог отделить классы друг от друга в пространстве признаков, или что тоже самое провести разделяющую поверхность между классами."
      ]
    },
    {
      "cell_type": "markdown",
      "metadata": {
        "id": "GirFd7JnowPs"
      },
      "source": [
        "Начнем с задачи бинарной классификации.\n",
        "\n",
        "В линейном бинарном классификаторе разделяющая поверхность - гиперплоскость, а алгоритм $a(x)$ задается равенством\n",
        "\n",
        "$$a(x) = sign(w_0 + \\sum_{j = 1}^{d}w_jx^j)$$"
      ]
    },
    {
      "cell_type": "markdown",
      "metadata": {
        "id": "Q6Fc8jVoowPt"
      },
      "source": [
        "где \n",
        "$w_0$ - свободный коэффициент\n",
        "$w_1,...,w_d$ - веса\n",
        "$x^j$ - признаки"
      ]
    },
    {
      "cell_type": "markdown",
      "metadata": {
        "id": "EuH9Rt0eowPu"
      },
      "source": [
        "Прежде чем обучать алгоритм, нам необходимо выбрать функционал качества $Q(a, X)$ для нашей задачи.\n",
        "\n",
        "$$Q(a, X) = \\frac{1}{n}\\sum_{i=1}^{n}L(y_i, a(x_i))$$\n",
        "\n",
        "где $L(y, a(x))$ - функция потерь\n",
        "\n",
        "Как известно, выбрав функционалом качества долю неправильных ответов, мы не сможем решать задачу минимизации с помощью градиентных методов. Поэтому мы аппроксимируем функционал качества сверху $$Q(a, X)\\le \\frac{1}{n} \\sum_{i=1}^{n}\\tilde L(y_i, a(x_i))$$\n",
        "\n",
        "где $\\tilde L(y_i, a(x_i))$ гладкая  и диффиренцируемая функция\n",
        "\n",
        "Одним из решений является логистическая функция потерь, которая имеет следующий вид:\n",
        "\n",
        "$$\n",
        "\\tilde L(y_i, a(x_i)) = - (y_i \\log(p_i) + (1 - y_i) \\log(1 - p_i))\n",
        "$$\n",
        "\n",
        "где $p_i$ - это вероятность принадлежности объекта $x_i$ к классу 1, предсказанная нашим алгоритмом. \n",
        "\n",
        "Чтобы получить $p_i$ введем алгоритм линейной регрессии $b(x)$\n",
        "$$\n",
        "b(x) = w_0 + \\langle w, x \\rangle = w_0 + \\sum_{i=1}^{d} w_i x_i\n",
        "$$\n",
        "\n",
        "Чтобы получить алгоритм, который возвращает значения из интервала $(0, 1)$, можно обернуть выход алгоритма $b(x)$ в сигмоиду. Сигмоида это любая S - образная функция принимающая значения из $(0, 1)$. Частный случай: логистическая функция, которая имеет следующий вид:\n",
        "\n",
        "$$\n",
        "\\sigma (z) = \\frac{1}{1 + e^{-z}}\n",
        "$$\n",
        "\n"
      ]
    },
    {
      "cell_type": "markdown",
      "metadata": {
        "id": "3WtcSAXkowPu"
      },
      "source": [
        "\n",
        "В результате предсказание вероятности принадлежности объекта к положительному классу можно записать как:\n",
        "\n",
        "$$\n",
        "p_i = P(y = +1 | x) = \\frac{1}{1 + \\exp(- w_0 - \\langle w, x \\rangle )}\n",
        "$$"
      ]
    },
    {
      "cell_type": "markdown",
      "metadata": {
        "id": "IrxEAatTowPv"
      },
      "source": [
        "## 1. Обработка данных"
      ]
    },
    {
      "cell_type": "markdown",
      "metadata": {
        "id": "xXewN3CvowPw"
      },
      "source": [
        "#### 1.1 Загрузка данных"
      ]
    },
    {
      "cell_type": "markdown",
      "metadata": {
        "id": "aMIPTWwfowPw"
      },
      "source": [
        "Загрузим датасет о пассажирах титаника."
      ]
    },
    {
      "cell_type": "code",
      "metadata": {
        "id": "0k0lvODVowPx"
      },
      "source": [
        "import pandas as pd\n",
        "import numpy as np"
      ],
      "execution_count": null,
      "outputs": []
    },
    {
      "cell_type": "code",
      "metadata": {
        "id": "A-PF2icvDmGg",
        "colab": {
          "resources": {
            "http://localhost:8080/nbextensions/google.colab/files.js": {
              "data": "Ly8gQ29weXJpZ2h0IDIwMTcgR29vZ2xlIExMQwovLwovLyBMaWNlbnNlZCB1bmRlciB0aGUgQXBhY2hlIExpY2Vuc2UsIFZlcnNpb24gMi4wICh0aGUgIkxpY2Vuc2UiKTsKLy8geW91IG1heSBub3QgdXNlIHRoaXMgZmlsZSBleGNlcHQgaW4gY29tcGxpYW5jZSB3aXRoIHRoZSBMaWNlbnNlLgovLyBZb3UgbWF5IG9idGFpbiBhIGNvcHkgb2YgdGhlIExpY2Vuc2UgYXQKLy8KLy8gICAgICBodHRwOi8vd3d3LmFwYWNoZS5vcmcvbGljZW5zZXMvTElDRU5TRS0yLjAKLy8KLy8gVW5sZXNzIHJlcXVpcmVkIGJ5IGFwcGxpY2FibGUgbGF3IG9yIGFncmVlZCB0byBpbiB3cml0aW5nLCBzb2Z0d2FyZQovLyBkaXN0cmlidXRlZCB1bmRlciB0aGUgTGljZW5zZSBpcyBkaXN0cmlidXRlZCBvbiBhbiAiQVMgSVMiIEJBU0lTLAovLyBXSVRIT1VUIFdBUlJBTlRJRVMgT1IgQ09ORElUSU9OUyBPRiBBTlkgS0lORCwgZWl0aGVyIGV4cHJlc3Mgb3IgaW1wbGllZC4KLy8gU2VlIHRoZSBMaWNlbnNlIGZvciB0aGUgc3BlY2lmaWMgbGFuZ3VhZ2UgZ292ZXJuaW5nIHBlcm1pc3Npb25zIGFuZAovLyBsaW1pdGF0aW9ucyB1bmRlciB0aGUgTGljZW5zZS4KCi8qKgogKiBAZmlsZW92ZXJ2aWV3IEhlbHBlcnMgZm9yIGdvb2dsZS5jb2xhYiBQeXRob24gbW9kdWxlLgogKi8KKGZ1bmN0aW9uKHNjb3BlKSB7CmZ1bmN0aW9uIHNwYW4odGV4dCwgc3R5bGVBdHRyaWJ1dGVzID0ge30pIHsKICBjb25zdCBlbGVtZW50ID0gZG9jdW1lbnQuY3JlYXRlRWxlbWVudCgnc3BhbicpOwogIGVsZW1lbnQudGV4dENvbnRlbnQgPSB0ZXh0OwogIGZvciAoY29uc3Qga2V5IG9mIE9iamVjdC5rZXlzKHN0eWxlQXR0cmlidXRlcykpIHsKICAgIGVsZW1lbnQuc3R5bGVba2V5XSA9IHN0eWxlQXR0cmlidXRlc1trZXldOwogIH0KICByZXR1cm4gZWxlbWVudDsKfQoKLy8gTWF4IG51bWJlciBvZiBieXRlcyB3aGljaCB3aWxsIGJlIHVwbG9hZGVkIGF0IGEgdGltZS4KY29uc3QgTUFYX1BBWUxPQURfU0laRSA9IDEwMCAqIDEwMjQ7CgpmdW5jdGlvbiBfdXBsb2FkRmlsZXMoaW5wdXRJZCwgb3V0cHV0SWQpIHsKICBjb25zdCBzdGVwcyA9IHVwbG9hZEZpbGVzU3RlcChpbnB1dElkLCBvdXRwdXRJZCk7CiAgY29uc3Qgb3V0cHV0RWxlbWVudCA9IGRvY3VtZW50LmdldEVsZW1lbnRCeUlkKG91dHB1dElkKTsKICAvLyBDYWNoZSBzdGVwcyBvbiB0aGUgb3V0cHV0RWxlbWVudCB0byBtYWtlIGl0IGF2YWlsYWJsZSBmb3IgdGhlIG5leHQgY2FsbAogIC8vIHRvIHVwbG9hZEZpbGVzQ29udGludWUgZnJvbSBQeXRob24uCiAgb3V0cHV0RWxlbWVudC5zdGVwcyA9IHN0ZXBzOwoKICByZXR1cm4gX3VwbG9hZEZpbGVzQ29udGludWUob3V0cHV0SWQpOwp9CgovLyBUaGlzIGlzIHJvdWdobHkgYW4gYXN5bmMgZ2VuZXJhdG9yIChub3Qgc3VwcG9ydGVkIGluIHRoZSBicm93c2VyIHlldCksCi8vIHdoZXJlIHRoZXJlIGFyZSBtdWx0aXBsZSBhc3luY2hyb25vdXMgc3RlcHMgYW5kIHRoZSBQeXRob24gc2lkZSBpcyBnb2luZwovLyB0byBwb2xsIGZvciBjb21wbGV0aW9uIG9mIGVhY2ggc3RlcC4KLy8gVGhpcyB1c2VzIGEgUHJvbWlzZSB0byBibG9jayB0aGUgcHl0aG9uIHNpZGUgb24gY29tcGxldGlvbiBvZiBlYWNoIHN0ZXAsCi8vIHRoZW4gcGFzc2VzIHRoZSByZXN1bHQgb2YgdGhlIHByZXZpb3VzIHN0ZXAgYXMgdGhlIGlucHV0IHRvIHRoZSBuZXh0IHN0ZXAuCmZ1bmN0aW9uIF91cGxvYWRGaWxlc0NvbnRpbnVlKG91dHB1dElkKSB7CiAgY29uc3Qgb3V0cHV0RWxlbWVudCA9IGRvY3VtZW50LmdldEVsZW1lbnRCeUlkKG91dHB1dElkKTsKICBjb25zdCBzdGVwcyA9IG91dHB1dEVsZW1lbnQuc3RlcHM7CgogIGNvbnN0IG5leHQgPSBzdGVwcy5uZXh0KG91dHB1dEVsZW1lbnQubGFzdFByb21pc2VWYWx1ZSk7CiAgcmV0dXJuIFByb21pc2UucmVzb2x2ZShuZXh0LnZhbHVlLnByb21pc2UpLnRoZW4oKHZhbHVlKSA9PiB7CiAgICAvLyBDYWNoZSB0aGUgbGFzdCBwcm9taXNlIHZhbHVlIHRvIG1ha2UgaXQgYXZhaWxhYmxlIHRvIHRoZSBuZXh0CiAgICAvLyBzdGVwIG9mIHRoZSBnZW5lcmF0b3IuCiAgICBvdXRwdXRFbGVtZW50Lmxhc3RQcm9taXNlVmFsdWUgPSB2YWx1ZTsKICAgIHJldHVybiBuZXh0LnZhbHVlLnJlc3BvbnNlOwogIH0pOwp9CgovKioKICogR2VuZXJhdG9yIGZ1bmN0aW9uIHdoaWNoIGlzIGNhbGxlZCBiZXR3ZWVuIGVhY2ggYXN5bmMgc3RlcCBvZiB0aGUgdXBsb2FkCiAqIHByb2Nlc3MuCiAqIEBwYXJhbSB7c3RyaW5nfSBpbnB1dElkIEVsZW1lbnQgSUQgb2YgdGhlIGlucHV0IGZpbGUgcGlja2VyIGVsZW1lbnQuCiAqIEBwYXJhbSB7c3RyaW5nfSBvdXRwdXRJZCBFbGVtZW50IElEIG9mIHRoZSBvdXRwdXQgZGlzcGxheS4KICogQHJldHVybiB7IUl0ZXJhYmxlPCFPYmplY3Q+fSBJdGVyYWJsZSBvZiBuZXh0IHN0ZXBzLgogKi8KZnVuY3Rpb24qIHVwbG9hZEZpbGVzU3RlcChpbnB1dElkLCBvdXRwdXRJZCkgewogIGNvbnN0IGlucHV0RWxlbWVudCA9IGRvY3VtZW50LmdldEVsZW1lbnRCeUlkKGlucHV0SWQpOwogIGlucHV0RWxlbWVudC5kaXNhYmxlZCA9IGZhbHNlOwoKICBjb25zdCBvdXRwdXRFbGVtZW50ID0gZG9jdW1lbnQuZ2V0RWxlbWVudEJ5SWQob3V0cHV0SWQpOwogIG91dHB1dEVsZW1lbnQuaW5uZXJIVE1MID0gJyc7CgogIGNvbnN0IHBpY2tlZFByb21pc2UgPSBuZXcgUHJvbWlzZSgocmVzb2x2ZSkgPT4gewogICAgaW5wdXRFbGVtZW50LmFkZEV2ZW50TGlzdGVuZXIoJ2NoYW5nZScsIChlKSA9PiB7CiAgICAgIHJlc29sdmUoZS50YXJnZXQuZmlsZXMpOwogICAgfSk7CiAgfSk7CgogIGNvbnN0IGNhbmNlbCA9IGRvY3VtZW50LmNyZWF0ZUVsZW1lbnQoJ2J1dHRvbicpOwogIGlucHV0RWxlbWVudC5wYXJlbnRFbGVtZW50LmFwcGVuZENoaWxkKGNhbmNlbCk7CiAgY2FuY2VsLnRleHRDb250ZW50ID0gJ0NhbmNlbCB1cGxvYWQnOwogIGNvbnN0IGNhbmNlbFByb21pc2UgPSBuZXcgUHJvbWlzZSgocmVzb2x2ZSkgPT4gewogICAgY2FuY2VsLm9uY2xpY2sgPSAoKSA9PiB7CiAgICAgIHJlc29sdmUobnVsbCk7CiAgICB9OwogIH0pOwoKICAvLyBXYWl0IGZvciB0aGUgdXNlciB0byBwaWNrIHRoZSBmaWxlcy4KICBjb25zdCBmaWxlcyA9IHlpZWxkIHsKICAgIHByb21pc2U6IFByb21pc2UucmFjZShbcGlja2VkUHJvbWlzZSwgY2FuY2VsUHJvbWlzZV0pLAogICAgcmVzcG9uc2U6IHsKICAgICAgYWN0aW9uOiAnc3RhcnRpbmcnLAogICAgfQogIH07CgogIGNhbmNlbC5yZW1vdmUoKTsKCiAgLy8gRGlzYWJsZSB0aGUgaW5wdXQgZWxlbWVudCBzaW5jZSBmdXJ0aGVyIHBpY2tzIGFyZSBub3QgYWxsb3dlZC4KICBpbnB1dEVsZW1lbnQuZGlzYWJsZWQgPSB0cnVlOwoKICBpZiAoIWZpbGVzKSB7CiAgICByZXR1cm4gewogICAgICByZXNwb25zZTogewogICAgICAgIGFjdGlvbjogJ2NvbXBsZXRlJywKICAgICAgfQogICAgfTsKICB9CgogIGZvciAoY29uc3QgZmlsZSBvZiBmaWxlcykgewogICAgY29uc3QgbGkgPSBkb2N1bWVudC5jcmVhdGVFbGVtZW50KCdsaScpOwogICAgbGkuYXBwZW5kKHNwYW4oZmlsZS5uYW1lLCB7Zm9udFdlaWdodDogJ2JvbGQnfSkpOwogICAgbGkuYXBwZW5kKHNwYW4oCiAgICAgICAgYCgke2ZpbGUudHlwZSB8fCAnbi9hJ30pIC0gJHtmaWxlLnNpemV9IGJ5dGVzLCBgICsKICAgICAgICBgbGFzdCBtb2RpZmllZDogJHsKICAgICAgICAgICAgZmlsZS5sYXN0TW9kaWZpZWREYXRlID8gZmlsZS5sYXN0TW9kaWZpZWREYXRlLnRvTG9jYWxlRGF0ZVN0cmluZygpIDoKICAgICAgICAgICAgICAgICAgICAgICAgICAgICAgICAgICAgJ24vYSd9IC0gYCkpOwogICAgY29uc3QgcGVyY2VudCA9IHNwYW4oJzAlIGRvbmUnKTsKICAgIGxpLmFwcGVuZENoaWxkKHBlcmNlbnQpOwoKICAgIG91dHB1dEVsZW1lbnQuYXBwZW5kQ2hpbGQobGkpOwoKICAgIGNvbnN0IGZpbGVEYXRhUHJvbWlzZSA9IG5ldyBQcm9taXNlKChyZXNvbHZlKSA9PiB7CiAgICAgIGNvbnN0IHJlYWRlciA9IG5ldyBGaWxlUmVhZGVyKCk7CiAgICAgIHJlYWRlci5vbmxvYWQgPSAoZSkgPT4gewogICAgICAgIHJlc29sdmUoZS50YXJnZXQucmVzdWx0KTsKICAgICAgfTsKICAgICAgcmVhZGVyLnJlYWRBc0FycmF5QnVmZmVyKGZpbGUpOwogICAgfSk7CiAgICAvLyBXYWl0IGZvciB0aGUgZGF0YSB0byBiZSByZWFkeS4KICAgIGxldCBmaWxlRGF0YSA9IHlpZWxkIHsKICAgICAgcHJvbWlzZTogZmlsZURhdGFQcm9taXNlLAogICAgICByZXNwb25zZTogewogICAgICAgIGFjdGlvbjogJ2NvbnRpbnVlJywKICAgICAgfQogICAgfTsKCiAgICAvLyBVc2UgYSBjaHVua2VkIHNlbmRpbmcgdG8gYXZvaWQgbWVzc2FnZSBzaXplIGxpbWl0cy4gU2VlIGIvNjIxMTU2NjAuCiAgICBsZXQgcG9zaXRpb24gPSAwOwogICAgd2hpbGUgKHBvc2l0aW9uIDwgZmlsZURhdGEuYnl0ZUxlbmd0aCkgewogICAgICBjb25zdCBsZW5ndGggPSBNYXRoLm1pbihmaWxlRGF0YS5ieXRlTGVuZ3RoIC0gcG9zaXRpb24sIE1BWF9QQVlMT0FEX1NJWkUpOwogICAgICBjb25zdCBjaHVuayA9IG5ldyBVaW50OEFycmF5KGZpbGVEYXRhLCBwb3NpdGlvbiwgbGVuZ3RoKTsKICAgICAgcG9zaXRpb24gKz0gbGVuZ3RoOwoKICAgICAgY29uc3QgYmFzZTY0ID0gYnRvYShTdHJpbmcuZnJvbUNoYXJDb2RlLmFwcGx5KG51bGwsIGNodW5rKSk7CiAgICAgIHlpZWxkIHsKICAgICAgICByZXNwb25zZTogewogICAgICAgICAgYWN0aW9uOiAnYXBwZW5kJywKICAgICAgICAgIGZpbGU6IGZpbGUubmFtZSwKICAgICAgICAgIGRhdGE6IGJhc2U2NCwKICAgICAgICB9LAogICAgICB9OwogICAgICBwZXJjZW50LnRleHRDb250ZW50ID0KICAgICAgICAgIGAke01hdGgucm91bmQoKHBvc2l0aW9uIC8gZmlsZURhdGEuYnl0ZUxlbmd0aCkgKiAxMDApfSUgZG9uZWA7CiAgICB9CiAgfQoKICAvLyBBbGwgZG9uZS4KICB5aWVsZCB7CiAgICByZXNwb25zZTogewogICAgICBhY3Rpb246ICdjb21wbGV0ZScsCiAgICB9CiAgfTsKfQoKc2NvcGUuZ29vZ2xlID0gc2NvcGUuZ29vZ2xlIHx8IHt9OwpzY29wZS5nb29nbGUuY29sYWIgPSBzY29wZS5nb29nbGUuY29sYWIgfHwge307CnNjb3BlLmdvb2dsZS5jb2xhYi5fZmlsZXMgPSB7CiAgX3VwbG9hZEZpbGVzLAogIF91cGxvYWRGaWxlc0NvbnRpbnVlLAp9Owp9KShzZWxmKTsK",
              "ok": true,
              "headers": [
                [
                  "content-type",
                  "application/javascript"
                ]
              ],
              "status": 200,
              "status_text": ""
            }
          },
          "base_uri": "https://localhost:8080/",
          "height": 73
        },
        "outputId": "77efd6a7-b02d-4450-c0da-4e629b3965da"
      },
      "source": [
        "from google.colab import files\n",
        "uploder = files.upload()"
      ],
      "execution_count": null,
      "outputs": [
        {
          "output_type": "display_data",
          "data": {
            "text/plain": [
              "<IPython.core.display.HTML object>"
            ],
            "text/html": [
              "\n",
              "     <input type=\"file\" id=\"files-e77f0d3d-24b4-4582-b5b7-49a573c75c52\" name=\"files[]\" multiple disabled\n",
              "        style=\"border:none\" />\n",
              "     <output id=\"result-e77f0d3d-24b4-4582-b5b7-49a573c75c52\">\n",
              "      Upload widget is only available when the cell has been executed in the\n",
              "      current browser session. Please rerun this cell to enable.\n",
              "      </output>\n",
              "      <script src=\"/nbextensions/google.colab/files.js\"></script> "
            ]
          },
          "metadata": {
            "tags": []
          }
        },
        {
          "output_type": "stream",
          "text": [
            "Saving titanic.csv to titanic.csv\n"
          ],
          "name": "stdout"
        }
      ]
    },
    {
      "cell_type": "code",
      "metadata": {
        "id": "metsksoVrnaE"
      },
      "source": [
        "Data = pd.read_csv('titanic.csv')"
      ],
      "execution_count": null,
      "outputs": []
    },
    {
      "cell_type": "markdown",
      "metadata": {
        "id": "GGJSiY1PowP2"
      },
      "source": [
        "в файле train.csv каждая строчка наборов данных содержит следующие поля:\n",
        "\n",
        "- `Survived` - целевая переменная, выжил пассажир или нет\n",
        "\n",
        "- `Pclass` — класс пассажира (1 — высший, 2 — средний, 3 — низший);\n",
        "\n",
        "- `Name` — имя;\n",
        "\n",
        "- `Sex` — пол;\n",
        "\n",
        "- `Age` — возраст;\n",
        "\n",
        "- `SibSp` — количество братьев, сестер, сводных братьев, сводных сестер, супругов на борту титаника;\n",
        "\n",
        "- `Parch` — количество родителей, детей (в том числе приемных) на борту титаника;\n",
        "\n",
        "- `Ticket` — номер билета;\n",
        "\n",
        "- `Fare`— плата за проезд;\n",
        "\n",
        "- `Cabin` — каюта;\n",
        "\n",
        "- `Embarked` — порт посадки (C — Шербур; Q — Квинстаун; S — Саутгемптон).\n",
        " "
      ]
    },
    {
      "cell_type": "code",
      "metadata": {
        "id": "fse6iGTtowP2",
        "colab": {
          "base_uri": "https://localhost:8080/",
          "height": 250
        },
        "outputId": "e2baee8d-bca1-4922-bb0f-5a1e1ba0c24c"
      },
      "source": [
        "Data.head()"
      ],
      "execution_count": null,
      "outputs": [
        {
          "output_type": "execute_result",
          "data": {
            "text/plain": [
              "   PassengerId  Survived  Pclass      Lname  \\\n",
              "0            1         0       3     Braund   \n",
              "1            2         1       1    Cumings   \n",
              "2            3         1       3  Heikkinen   \n",
              "3            4         1       1   Futrelle   \n",
              "4            5         0       3      Allen   \n",
              "\n",
              "                                          Name     Sex   Age  SibSp  Parch  \\\n",
              "0                              Mr. Owen Harris    male  22.0      1      0   \n",
              "1   Mrs. John Bradley (Florence Briggs Thayer)  female  38.0      1      0   \n",
              "2                                  Miss. Laina  female  26.0      0      0   \n",
              "3           Mrs. Jacques Heath (Lily May Peel)  female  35.0      1      0   \n",
              "4                            Mr. William Henry    male  35.0      0      0   \n",
              "\n",
              "             Ticket     Fare Cabin Embarked  \n",
              "0         A/5 21171   7.2500   NaN        S  \n",
              "1          PC 17599  71.2833   C85        C  \n",
              "2  STON/O2. 3101282   7.9250   NaN        S  \n",
              "3            113803  53.1000  C123        S  \n",
              "4            373450   8.0500   NaN        S  "
            ],
            "text/html": [
              "<div>\n",
              "<style scoped>\n",
              "    .dataframe tbody tr th:only-of-type {\n",
              "        vertical-align: middle;\n",
              "    }\n",
              "\n",
              "    .dataframe tbody tr th {\n",
              "        vertical-align: top;\n",
              "    }\n",
              "\n",
              "    .dataframe thead th {\n",
              "        text-align: right;\n",
              "    }\n",
              "</style>\n",
              "<table border=\"1\" class=\"dataframe\">\n",
              "  <thead>\n",
              "    <tr style=\"text-align: right;\">\n",
              "      <th></th>\n",
              "      <th>PassengerId</th>\n",
              "      <th>Survived</th>\n",
              "      <th>Pclass</th>\n",
              "      <th>Lname</th>\n",
              "      <th>Name</th>\n",
              "      <th>Sex</th>\n",
              "      <th>Age</th>\n",
              "      <th>SibSp</th>\n",
              "      <th>Parch</th>\n",
              "      <th>Ticket</th>\n",
              "      <th>Fare</th>\n",
              "      <th>Cabin</th>\n",
              "      <th>Embarked</th>\n",
              "    </tr>\n",
              "  </thead>\n",
              "  <tbody>\n",
              "    <tr>\n",
              "      <th>0</th>\n",
              "      <td>1</td>\n",
              "      <td>0</td>\n",
              "      <td>3</td>\n",
              "      <td>Braund</td>\n",
              "      <td>Mr. Owen Harris</td>\n",
              "      <td>male</td>\n",
              "      <td>22.0</td>\n",
              "      <td>1</td>\n",
              "      <td>0</td>\n",
              "      <td>A/5 21171</td>\n",
              "      <td>7.2500</td>\n",
              "      <td>NaN</td>\n",
              "      <td>S</td>\n",
              "    </tr>\n",
              "    <tr>\n",
              "      <th>1</th>\n",
              "      <td>2</td>\n",
              "      <td>1</td>\n",
              "      <td>1</td>\n",
              "      <td>Cumings</td>\n",
              "      <td>Mrs. John Bradley (Florence Briggs Thayer)</td>\n",
              "      <td>female</td>\n",
              "      <td>38.0</td>\n",
              "      <td>1</td>\n",
              "      <td>0</td>\n",
              "      <td>PC 17599</td>\n",
              "      <td>71.2833</td>\n",
              "      <td>C85</td>\n",
              "      <td>C</td>\n",
              "    </tr>\n",
              "    <tr>\n",
              "      <th>2</th>\n",
              "      <td>3</td>\n",
              "      <td>1</td>\n",
              "      <td>3</td>\n",
              "      <td>Heikkinen</td>\n",
              "      <td>Miss. Laina</td>\n",
              "      <td>female</td>\n",
              "      <td>26.0</td>\n",
              "      <td>0</td>\n",
              "      <td>0</td>\n",
              "      <td>STON/O2. 3101282</td>\n",
              "      <td>7.9250</td>\n",
              "      <td>NaN</td>\n",
              "      <td>S</td>\n",
              "    </tr>\n",
              "    <tr>\n",
              "      <th>3</th>\n",
              "      <td>4</td>\n",
              "      <td>1</td>\n",
              "      <td>1</td>\n",
              "      <td>Futrelle</td>\n",
              "      <td>Mrs. Jacques Heath (Lily May Peel)</td>\n",
              "      <td>female</td>\n",
              "      <td>35.0</td>\n",
              "      <td>1</td>\n",
              "      <td>0</td>\n",
              "      <td>113803</td>\n",
              "      <td>53.1000</td>\n",
              "      <td>C123</td>\n",
              "      <td>S</td>\n",
              "    </tr>\n",
              "    <tr>\n",
              "      <th>4</th>\n",
              "      <td>5</td>\n",
              "      <td>0</td>\n",
              "      <td>3</td>\n",
              "      <td>Allen</td>\n",
              "      <td>Mr. William Henry</td>\n",
              "      <td>male</td>\n",
              "      <td>35.0</td>\n",
              "      <td>0</td>\n",
              "      <td>0</td>\n",
              "      <td>373450</td>\n",
              "      <td>8.0500</td>\n",
              "      <td>NaN</td>\n",
              "      <td>S</td>\n",
              "    </tr>\n",
              "  </tbody>\n",
              "</table>\n",
              "</div>"
            ]
          },
          "metadata": {
            "tags": []
          },
          "execution_count": 4
        }
      ]
    },
    {
      "cell_type": "markdown",
      "metadata": {
        "id": "p2E6Je8OowP7"
      },
      "source": [
        "Выберем данные, которые будем использовать дальше"
      ]
    },
    {
      "cell_type": "code",
      "metadata": {
        "id": "D9RDo04SowP8"
      },
      "source": [
        "X = Data[['Pclass', 'Sex', 'Age', 'SibSp', 'Parch', 'Fare', 'Embarked']]\n",
        "Y = Data['Survived']"
      ],
      "execution_count": null,
      "outputs": []
    },
    {
      "cell_type": "markdown",
      "metadata": {
        "id": "z4EFGUP2owP-"
      },
      "source": [
        "#### 1.2 Пропуски в данных"
      ]
    },
    {
      "cell_type": "markdown",
      "metadata": {
        "id": "ZpipLbO2owP-"
      },
      "source": [
        "\n",
        "\n",
        "```\n",
        "# Выбран кодовый формат\n",
        "```\n",
        "\n",
        "Посмотрим на пропуски в данных"
      ]
    },
    {
      "cell_type": "code",
      "metadata": {
        "scrolled": true,
        "id": "qA3Uq709owP_",
        "colab": {
          "base_uri": "https://localhost:8080/"
        },
        "outputId": "07c37b56-8d6e-448e-c0e6-4b40c99f81a7"
      },
      "source": [
        "X.isnull().sum()"
      ],
      "execution_count": null,
      "outputs": [
        {
          "output_type": "execute_result",
          "data": {
            "text/plain": [
              "Pclass       0\n",
              "Sex          0\n",
              "Age         30\n",
              "SibSp        0\n",
              "Parch        0\n",
              "Fare         0\n",
              "Embarked     1\n",
              "dtype: int64"
            ]
          },
          "metadata": {
            "tags": []
          },
          "execution_count": 5
        }
      ]
    },
    {
      "cell_type": "markdown",
      "metadata": {
        "id": "CFxks1RTowQB"
      },
      "source": [
        "Пропуски есть в признаках `Age` и `Embarked`.\n",
        "\n",
        "`Age` вещественный признак. Заполним пропуски в признаке `Age` средним значением.\n",
        "\n",
        "Признак `Embarked` категориальный. Заполним пропуск в признаке `Embarked` новым значениемем. "
      ]
    },
    {
      "cell_type": "code",
      "metadata": {
        "id": "0bRpInaXowQC",
        "colab": {
          "base_uri": "https://localhost:8080/"
        },
        "outputId": "65bc1407-07a7-4ce7-957b-7ebd4d2f0613"
      },
      "source": [
        "X.Age.fillna(X.Age.mean(), inplace = True)"
      ],
      "execution_count": null,
      "outputs": [
        {
          "output_type": "stream",
          "text": [
            "/usr/local/lib/python2.7/dist-packages/pandas/core/generic.py:6130: SettingWithCopyWarning: \n",
            "A value is trying to be set on a copy of a slice from a DataFrame\n",
            "\n",
            "See the caveats in the documentation: http://pandas.pydata.org/pandas-docs/stable/indexing.html#indexing-view-versus-copy\n",
            "  self._update_inplace(new_data)\n"
          ],
          "name": "stderr"
        }
      ]
    },
    {
      "cell_type": "code",
      "metadata": {
        "id": "4eA0xGaRowQE"
      },
      "source": [
        "X.Embarked.fillna('None',  inplace = True)"
      ],
      "execution_count": null,
      "outputs": []
    },
    {
      "cell_type": "markdown",
      "metadata": {
        "id": "4oWMpJ76owQF"
      },
      "source": [
        "Посмотрим на получившиеся данные"
      ]
    },
    {
      "cell_type": "code",
      "metadata": {
        "id": "9B7pUrSRowQG",
        "colab": {
          "base_uri": "https://localhost:8080/",
          "height": 198
        },
        "outputId": "20e77d4d-9fa1-412e-ffa5-f263ffd1eca5"
      },
      "source": [
        "X.head()"
      ],
      "execution_count": null,
      "outputs": [
        {
          "output_type": "execute_result",
          "data": {
            "text/plain": [
              "   Pclass     Sex   Age  SibSp  Parch     Fare Embarked\n",
              "0       3    male  22.0      1      0   7.2500        S\n",
              "1       1  female  38.0      1      0  71.2833        C\n",
              "2       3  female  26.0      0      0   7.9250        S\n",
              "3       1  female  35.0      1      0  53.1000        S\n",
              "4       3    male  35.0      0      0   8.0500        S"
            ],
            "text/html": [
              "<div>\n",
              "<style scoped>\n",
              "    .dataframe tbody tr th:only-of-type {\n",
              "        vertical-align: middle;\n",
              "    }\n",
              "\n",
              "    .dataframe tbody tr th {\n",
              "        vertical-align: top;\n",
              "    }\n",
              "\n",
              "    .dataframe thead th {\n",
              "        text-align: right;\n",
              "    }\n",
              "</style>\n",
              "<table border=\"1\" class=\"dataframe\">\n",
              "  <thead>\n",
              "    <tr style=\"text-align: right;\">\n",
              "      <th></th>\n",
              "      <th>Pclass</th>\n",
              "      <th>Sex</th>\n",
              "      <th>Age</th>\n",
              "      <th>SibSp</th>\n",
              "      <th>Parch</th>\n",
              "      <th>Fare</th>\n",
              "      <th>Embarked</th>\n",
              "    </tr>\n",
              "  </thead>\n",
              "  <tbody>\n",
              "    <tr>\n",
              "      <th>0</th>\n",
              "      <td>3</td>\n",
              "      <td>male</td>\n",
              "      <td>22.0</td>\n",
              "      <td>1</td>\n",
              "      <td>0</td>\n",
              "      <td>7.2500</td>\n",
              "      <td>S</td>\n",
              "    </tr>\n",
              "    <tr>\n",
              "      <th>1</th>\n",
              "      <td>1</td>\n",
              "      <td>female</td>\n",
              "      <td>38.0</td>\n",
              "      <td>1</td>\n",
              "      <td>0</td>\n",
              "      <td>71.2833</td>\n",
              "      <td>C</td>\n",
              "    </tr>\n",
              "    <tr>\n",
              "      <th>2</th>\n",
              "      <td>3</td>\n",
              "      <td>female</td>\n",
              "      <td>26.0</td>\n",
              "      <td>0</td>\n",
              "      <td>0</td>\n",
              "      <td>7.9250</td>\n",
              "      <td>S</td>\n",
              "    </tr>\n",
              "    <tr>\n",
              "      <th>3</th>\n",
              "      <td>1</td>\n",
              "      <td>female</td>\n",
              "      <td>35.0</td>\n",
              "      <td>1</td>\n",
              "      <td>0</td>\n",
              "      <td>53.1000</td>\n",
              "      <td>S</td>\n",
              "    </tr>\n",
              "    <tr>\n",
              "      <th>4</th>\n",
              "      <td>3</td>\n",
              "      <td>male</td>\n",
              "      <td>35.0</td>\n",
              "      <td>0</td>\n",
              "      <td>0</td>\n",
              "      <td>8.0500</td>\n",
              "      <td>S</td>\n",
              "    </tr>\n",
              "  </tbody>\n",
              "</table>\n",
              "</div>"
            ]
          },
          "metadata": {
            "tags": []
          },
          "execution_count": 9
        }
      ]
    },
    {
      "cell_type": "code",
      "metadata": {
        "id": "W9HhGlufowQI",
        "colab": {
          "base_uri": "https://localhost:8080/"
        },
        "outputId": "6cc1cda7-a21f-4335-958e-d8754844e6b4"
      },
      "source": [
        "X.info()"
      ],
      "execution_count": null,
      "outputs": [
        {
          "output_type": "stream",
          "text": [
            "<class 'pandas.core.frame.DataFrame'>\n",
            "RangeIndex: 156 entries, 0 to 155\n",
            "Data columns (total 7 columns):\n",
            "Pclass      156 non-null int64\n",
            "Sex         156 non-null object\n",
            "Age         156 non-null float64\n",
            "SibSp       156 non-null int64\n",
            "Parch       156 non-null int64\n",
            "Fare        156 non-null float64\n",
            "Embarked    156 non-null object\n",
            "dtypes: float64(2), int64(3), object(2)\n",
            "memory usage: 8.6+ KB\n"
          ],
          "name": "stdout"
        }
      ]
    },
    {
      "cell_type": "markdown",
      "metadata": {
        "id": "L6rK5OGbowQL"
      },
      "source": [
        "#### 1.3 Обработка категориальных признаков"
      ]
    },
    {
      "cell_type": "markdown",
      "metadata": {
        "id": "KUh310SkowQL"
      },
      "source": [
        "Чтобы далее мы смогли использовать алгоритм машинного обучения, необходимо все признаки привести к числовому виду."
      ]
    },
    {
      "cell_type": "markdown",
      "metadata": {
        "id": "RaJlUIiIowQM"
      },
      "source": [
        "В данных есть категориальные признаки Sex и Embarked со строковыми значениями."
      ]
    },
    {
      "cell_type": "markdown",
      "metadata": {
        "id": "EAISoSGzowQM"
      },
      "source": [
        "`Sex` - бинарный признак, заменим ``male`` на 1, а `female` на 0"
      ]
    },
    {
      "cell_type": "code",
      "metadata": {
        "id": "I8Cy-G_KowQN",
        "colab": {
          "base_uri": "https://localhost:8080/"
        },
        "outputId": "4a28a00c-552d-4d53-dd55-020b1c750ce2"
      },
      "source": [
        "X.Sex.unique()"
      ],
      "execution_count": null,
      "outputs": [
        {
          "output_type": "execute_result",
          "data": {
            "text/plain": [
              "array(['male', 'female'], dtype=object)"
            ]
          },
          "metadata": {
            "tags": []
          },
          "execution_count": 11
        }
      ]
    },
    {
      "cell_type": "code",
      "metadata": {
        "id": "QR86Cwr3owQQ",
        "colab": {
          "base_uri": "https://localhost:8080/"
        },
        "outputId": "bcdc3fc6-d3cc-45a1-d2d8-72c329a22a88"
      },
      "source": [
        "X.loc[:, 'Sex'] = X['Sex'].map({'male': 1, 'female':0})"
      ],
      "execution_count": null,
      "outputs": [
        {
          "output_type": "stream",
          "text": [
            "/usr/local/lib/python2.7/dist-packages/pandas/core/indexing.py:543: SettingWithCopyWarning: \n",
            "A value is trying to be set on a copy of a slice from a DataFrame.\n",
            "Try using .loc[row_indexer,col_indexer] = value instead\n",
            "\n",
            "See the caveats in the documentation: http://pandas.pydata.org/pandas-docs/stable/indexing.html#indexing-view-versus-copy\n",
            "  self.obj[item] = s\n"
          ],
          "name": "stderr"
        }
      ]
    },
    {
      "cell_type": "markdown",
      "metadata": {
        "id": "BITM1hlSowQR"
      },
      "source": [
        "`Embarked` - категориальный признак который содержит 4 уникальных значения."
      ]
    },
    {
      "cell_type": "markdown",
      "metadata": {
        "id": "V7ldUlI1owQS"
      },
      "source": [
        "Чтобы привести его к числовому виду воспользуемся `one-hot` кодировкой"
      ]
    },
    {
      "cell_type": "code",
      "metadata": {
        "id": "1g7x9XJiowQT",
        "colab": {
          "base_uri": "https://localhost:8080/"
        },
        "outputId": "8d7784aa-0e60-4f68-850b-d8df98e4d50a"
      },
      "source": [
        "X.Embarked.unique()"
      ],
      "execution_count": null,
      "outputs": [
        {
          "output_type": "execute_result",
          "data": {
            "text/plain": [
              "array(['S', 'C', 'Q', 'None'], dtype=object)"
            ]
          },
          "metadata": {
            "tags": []
          },
          "execution_count": 9
        }
      ]
    },
    {
      "cell_type": "code",
      "metadata": {
        "id": "epN53Kd2owQZ"
      },
      "source": [
        "X = pd.get_dummies(X, columns=['Embarked'])"
      ],
      "execution_count": null,
      "outputs": []
    },
    {
      "cell_type": "code",
      "metadata": {
        "id": "lWzplvn9E3MX",
        "colab": {
          "base_uri": "https://localhost:8080/"
        },
        "outputId": "57e908fc-04d1-4851-8e5f-f719f469f042"
      },
      "source": [
        "X['Sex']"
      ],
      "execution_count": null,
      "outputs": [
        {
          "output_type": "execute_result",
          "data": {
            "text/plain": [
              "0      1\n",
              "1      0\n",
              "2      0\n",
              "3      0\n",
              "4      1\n",
              "5      1\n",
              "6      1\n",
              "7      1\n",
              "8      0\n",
              "9      0\n",
              "10     0\n",
              "11     0\n",
              "12     1\n",
              "13     1\n",
              "14     0\n",
              "15     0\n",
              "16     1\n",
              "17     1\n",
              "18     0\n",
              "19     0\n",
              "20     1\n",
              "21     1\n",
              "22     0\n",
              "23     1\n",
              "24     0\n",
              "25     0\n",
              "26     1\n",
              "27     1\n",
              "28     0\n",
              "29     1\n",
              "      ..\n",
              "126    1\n",
              "127    1\n",
              "128    0\n",
              "129    1\n",
              "130    1\n",
              "131    1\n",
              "132    0\n",
              "133    0\n",
              "134    1\n",
              "135    1\n",
              "136    0\n",
              "137    1\n",
              "138    1\n",
              "139    1\n",
              "140    0\n",
              "141    0\n",
              "142    0\n",
              "143    1\n",
              "144    1\n",
              "145    1\n",
              "146    1\n",
              "147    0\n",
              "148    1\n",
              "149    1\n",
              "150    1\n",
              "151    0\n",
              "152    1\n",
              "153    1\n",
              "154    1\n",
              "155    1\n",
              "Name: Sex, Length: 156, dtype: int64"
            ]
          },
          "metadata": {
            "tags": []
          },
          "execution_count": 11
        }
      ]
    },
    {
      "cell_type": "markdown",
      "metadata": {
        "id": "kbCE6dwAowQc"
      },
      "source": [
        "#### 1.4 Разделение данных на обучение и контроль"
      ]
    },
    {
      "cell_type": "markdown",
      "metadata": {
        "id": "F_Fa3lo0owQc"
      },
      "source": [
        "Разделим данные на обучающие и тестовые, чтобы в тестовых оказалось 30% объектов, а в обучающих 70%"
      ]
    },
    {
      "cell_type": "code",
      "metadata": {
        "id": "6tiBOOA0owQd"
      },
      "source": [
        "from sklearn.model_selection import train_test_split"
      ],
      "execution_count": null,
      "outputs": []
    },
    {
      "cell_type": "code",
      "metadata": {
        "id": "TIgs6qUaowQf"
      },
      "source": [
        "X_train, X_test, Y_train, Y_test = train_test_split(X, Y, test_size = 0.3)"
      ],
      "execution_count": null,
      "outputs": []
    },
    {
      "cell_type": "code",
      "metadata": {
        "id": "lxN0KZPXowQg",
        "colab": {
          "base_uri": "https://localhost:8080/"
        },
        "outputId": "725fb8b7-b0c9-43b2-84c9-e79437673086"
      },
      "source": [
        "print (X_train.shape, X_test.shape, Y_train.shape, Y_test.shape)"
      ],
      "execution_count": null,
      "outputs": [
        {
          "output_type": "stream",
          "text": [
            "((109, 10), (47, 10), (109,), (47,))\n"
          ],
          "name": "stdout"
        }
      ]
    },
    {
      "cell_type": "markdown",
      "metadata": {
        "id": "MMkMO7JiowQi"
      },
      "source": [
        "#### 1.5 Масштабирование данных"
      ]
    },
    {
      "cell_type": "markdown",
      "metadata": {
        "id": "8ljcU3zSowQj"
      },
      "source": [
        "Для линейных методов матрицу объекты-признаки необходимо предварительно масштабировать\n",
        "(то есть привести каждый признак к одному и тому же масштабу).\n",
        "\n",
        "Для этого можно воспользоваться StandardScaler или сделать это вручную."
      ]
    },
    {
      "cell_type": "code",
      "metadata": {
        "id": "anTDyF2oowQj"
      },
      "source": [
        "from sklearn.preprocessing import StandardScaler\n",
        "\n",
        "scaler = StandardScaler()\n",
        "scaler.fit(X_train)\n",
        "\n",
        "X_train = scaler.transform(X_train)\n",
        "X_test = scaler.transform(X_test)"
      ],
      "execution_count": null,
      "outputs": []
    },
    {
      "cell_type": "markdown",
      "metadata": {
        "id": "IA2dYoniowQk"
      },
      "source": [
        "## 2. LogisticRegression"
      ]
    },
    {
      "cell_type": "markdown",
      "metadata": {
        "id": "aaBHyzlaowQl"
      },
      "source": [
        "Будем обучать самый простой бинарный классификатор — логистическую регрессию. \n",
        "\n",
        "Используем готовую реализацию LogisticRegression из scikit-learn."
      ]
    },
    {
      "cell_type": "code",
      "metadata": {
        "id": "leky_pcoowQl"
      },
      "source": [
        "from sklearn.linear_model import LogisticRegression"
      ],
      "execution_count": null,
      "outputs": []
    },
    {
      "cell_type": "markdown",
      "metadata": {
        "id": "LMT_8eY4owQn"
      },
      "source": [
        "Обучим логистическую регрессию на данных X_train."
      ]
    },
    {
      "cell_type": "code",
      "metadata": {
        "id": "9twq2GwoowQn",
        "colab": {
          "base_uri": "https://localhost:8080/"
        },
        "outputId": "cc838804-2041-4a8a-9e88-6c4073d135f5"
      },
      "source": [
        "clf = LogisticRegression()\n",
        "clf.fit(X_train, Y_train)"
      ],
      "execution_count": null,
      "outputs": [
        {
          "output_type": "execute_result",
          "data": {
            "text/plain": [
              "LogisticRegression(C=1.0, class_weight=None, dual=False, fit_intercept=True,\n",
              "          intercept_scaling=1, max_iter=100, multi_class='warn',\n",
              "          n_jobs=None, penalty='l2', random_state=None, solver='warn',\n",
              "          tol=0.0001, verbose=0, warm_start=False)"
            ]
          },
          "metadata": {
            "tags": []
          },
          "execution_count": 21
        }
      ]
    },
    {
      "cell_type": "markdown",
      "metadata": {
        "id": "3ERMgVj7owQp"
      },
      "source": [
        "У обученной логистической регрессии есть два аттрибута: `coef_` и `intercept_`, которые соответствуют весам $w$ и $w_0$. \n",
        "\n",
        "Это и есть результат обучения логистической регрессии. \n"
      ]
    },
    {
      "cell_type": "markdown",
      "metadata": {
        "id": "K76tPUgMAF-n"
      },
      "source": [
        "Посмотрим на то, какие признаки оказались наиболее важными с точки зрения обученной модели. Для этого визуализируем веса, соответствующие признакам. Если признаки отмасштабированы, то чем больше вес по модулю - тем более сильным является признак."
      ]
    },
    {
      "cell_type": "code",
      "metadata": {
        "id": "WyL5NkD9AE7D",
        "colab": {
          "base_uri": "https://localhost:8080/",
          "height": 324
        },
        "outputId": "1f914894-6666-47c2-d5f7-683b896edac2"
      },
      "source": [
        "print(X.columns)\n",
        "sorted_weights = sorted(zip(clf.coef_.ravel(), X.columns), reverse=True)\n",
        "weights = [x[0] for x in sorted_weights]\n",
        "features = [x[1] for x in sorted_weights]\n",
        "df = pd.DataFrame({'features': features, 'weights':weights})\n",
        "ax = df.plot.barh(x='features', y='weights', rot=0, )"
      ],
      "execution_count": null,
      "outputs": [
        {
          "output_type": "stream",
          "text": [
            "Index([u'Pclass', u'Sex', u'Age', u'SibSp', u'Parch', u'Fare', u'Embarked_C',\n",
            "       u'Embarked_None', u'Embarked_Q', u'Embarked_S'],\n",
            "      dtype='object')\n"
          ],
          "name": "stdout"
        },
        {
          "output_type": "display_data",
          "data": {
            "image/png": "[encoded data removed]",
            "text/plain": [
              "<Figure size 432x288 with 1 Axes>"
            ]
          },
          "metadata": {
            "tags": [],
            "needs_background": "light"
          }
        }
      ]
    },
    {
      "cell_type": "markdown",
      "metadata": {
        "id": "h2DznCo8ADbs"
      },
      "source": [
        "Посчитаем с помощью аттрибутов `coef_` и `intercept_` (с помощью всё той же обученной ранее логистической регрессии)  предсказание вероятности принадлежности объекта к положительному классу для тестовой части."
      ]
    },
    {
      "cell_type": "markdown",
      "metadata": {
        "id": "PJpMXFA6owQq"
      },
      "source": [
        "Для этого применим логистическую функцию к  $ w_0 + <w, x>$"
      ]
    },
    {
      "cell_type": "markdown",
      "metadata": {
        "id": "Euf07-15owQr"
      },
      "source": [
        "Реализуем логистическую функцию и построим её график."
      ]
    },
    {
      "cell_type": "code",
      "metadata": {
        "id": "pSC8BSwdowQr",
        "colab": {
          "base_uri": "https://localhost:8080/",
          "height": 281
        },
        "outputId": "48427317-b167-4654-a810-a3e67a92e15e"
      },
      "source": [
        "import numpy as np\n",
        "from matplotlib import pyplot as plt\n",
        "\n",
        "x = np.linspace(-10, 10, 1000)\n",
        "\n",
        "def logistic_function(x):\n",
        "    return 1 / (1 + np.exp(-x))\n",
        "\n",
        "plt.title('Logit - function')\n",
        "plt.plot(x, logistic_function(x))\n",
        "plt.show()"
      ],
      "execution_count": null,
      "outputs": [
        {
          "output_type": "display_data",
          "data": {
            "image/png": "[encoded data removed]",
            "text/plain": [
              "<Figure size 432x288 with 1 Axes>"
            ]
          },
          "metadata": {
            "tags": []
          }
        }
      ]
    },
    {
      "cell_type": "markdown",
      "metadata": {
        "id": "9JztQoDfowQt"
      },
      "source": [
        "предсказание вероятности принадлежности объекта к положительному классу для тестовой части вычислим с помощью матричного произведения в numpy"
      ]
    },
    {
      "cell_type": "code",
      "metadata": {
        "id": "3EYU_6h4owQt"
      },
      "source": [
        "pred_prob = np.ravel(logistic_function(np.dot(X_test, clf.coef_.T) + clf.intercept_))"
      ],
      "execution_count": null,
      "outputs": []
    },
    {
      "cell_type": "markdown",
      "metadata": {
        "id": "ngOMgl00owQv"
      },
      "source": [
        "Вычислить предсказание вероятности принадлежности объекта к положительному классу можно и с помощью метода predict_proba"
      ]
    },
    {
      "cell_type": "code",
      "metadata": {
        "id": "9a9qIPvjowQv"
      },
      "source": [
        "pred_predict_proba = clf.predict_proba(X_test)[:, 1]"
      ],
      "execution_count": null,
      "outputs": []
    },
    {
      "cell_type": "markdown",
      "metadata": {
        "id": "62zX0WedowQx"
      },
      "source": [
        "Убедимся, что предсказанные значения совпадают"
      ]
    },
    {
      "cell_type": "code",
      "metadata": {
        "id": "6erQNad3owQx",
        "colab": {
          "base_uri": "https://localhost:8080/",
          "height": 35
        },
        "outputId": "cd699bf8-23f7-4aa7-d8ae-70f3c3cc102b"
      },
      "source": [
        "np.all([pred_prob, pred_predict_proba])"
      ],
      "execution_count": null,
      "outputs": [
        {
          "output_type": "execute_result",
          "data": {
            "text/plain": [
              "True"
            ]
          },
          "metadata": {
            "tags": []
          },
          "execution_count": 36
        }
      ]
    },
    {
      "cell_type": "markdown",
      "metadata": {
        "id": "gQGchY1UowQz"
      },
      "source": [
        "Чтобы получить в качестве предсказания метки классов, можно предсказанные вероятности принадлежности объекта к положительному классу бинаризовать по порогу (например по порогу 0.5)"
      ]
    },
    {
      "cell_type": "markdown",
      "metadata": {
        "id": "8hBMr657owQ0"
      },
      "source": [
        "Бинаризуем по порогу 0.5 и посчитаем долю правильных ответов (accuracy) на тестовой выборке."
      ]
    },
    {
      "cell_type": "code",
      "metadata": {
        "id": "WuBRt3WyowQ0",
        "colab": {
          "base_uri": "https://localhost:8080/",
          "height": 35
        },
        "outputId": "903bc697-da64-466a-df6e-7b98d58956cf"
      },
      "source": [
        "np.mean((pred_prob > 0.5) == Y_test)"
      ],
      "execution_count": null,
      "outputs": [
        {
          "output_type": "execute_result",
          "data": {
            "text/plain": [
              "0.7947761194029851"
            ]
          },
          "metadata": {
            "tags": []
          },
          "execution_count": 37
        }
      ]
    },
    {
      "cell_type": "markdown",
      "metadata": {
        "id": "Ze7oOb3howQ2"
      },
      "source": [
        "Для предсказания меток классов в sklearn есть метод predict."
      ]
    },
    {
      "cell_type": "code",
      "metadata": {
        "id": "CYadRvglowQ2",
        "colab": {
          "base_uri": "https://localhost:8080/",
          "height": 35
        },
        "outputId": "1a6f69e2-957c-4895-d590-fffecb6e9f19"
      },
      "source": [
        "pred = clf.predict(X_test)\n",
        "np.mean(pred == Y_test)"
      ],
      "execution_count": null,
      "outputs": [
        {
          "output_type": "execute_result",
          "data": {
            "text/plain": [
              "0.7947761194029851"
            ]
          },
          "metadata": {
            "tags": []
          },
          "execution_count": 38
        }
      ]
    },
    {
      "cell_type": "markdown",
      "metadata": {
        "id": "bodsXp_OowQ5"
      },
      "source": [
        "Таким образом, обучение логистической регрессии — настройка параметров $w$ и $w_0$.\n",
        "\n",
        "Применение — подсчёт вероятностей принадлежности положительному классу как применение логистической функции к скалярному произведению признаков и параметров."
      ]
    },
    {
      "cell_type": "markdown",
      "metadata": {
        "id": "bK2SNgaIqjwZ"
      },
      "source": [
        "Посмотрим на распределение целевого значения"
      ]
    },
    {
      "cell_type": "code",
      "metadata": {
        "id": "m-5gRAZFqO-D",
        "colab": {
          "base_uri": "https://localhost:8080/",
          "height": 321
        },
        "outputId": "086c0e0e-7b69-4a59-c661-b807f6899198"
      },
      "source": [
        "plt.hist(Y_test)"
      ],
      "execution_count": null,
      "outputs": [
        {
          "output_type": "execute_result",
          "data": {
            "text/plain": [
              "(array([157.,   0.,   0.,   0.,   0.,   0.,   0.,   0.,   0., 111.]),\n",
              " array([0. , 0.1, 0.2, 0.3, 0.4, 0.5, 0.6, 0.7, 0.8, 0.9, 1. ]),\n",
              " <a list of 10 Patch objects>)"
            ]
          },
          "metadata": {
            "tags": []
          },
          "execution_count": 40
        },
        {
          "output_type": "display_data",
          "data": {
            "image/png": "[encoded data removed]",
            "text/plain": [
              "<Figure size 432x288 with 1 Axes>"
            ]
          },
          "metadata": {
            "tags": []
          }
        }
      ]
    },
    {
      "cell_type": "markdown",
      "metadata": {
        "id": "klnzI9dItJkM"
      },
      "source": [
        "Посмотрим на распределение предсказываемого значения"
      ]
    },
    {
      "cell_type": "code",
      "metadata": {
        "id": "Arcfw142qqFP",
        "colab": {
          "base_uri": "https://localhost:8080/",
          "height": 356
        },
        "outputId": "36784f72-51f9-4714-de3f-21b1764c6ee8"
      },
      "source": [
        "plt.hist(clf.predict_proba(X_test)[:, 1])"
      ],
      "execution_count": null,
      "outputs": [
        {
          "output_type": "execute_result",
          "data": {
            "text/plain": [
              "(array([54., 58., 24., 22., 12., 10., 20., 16., 25., 27.]),\n",
              " array([0.00618686, 0.10189578, 0.19760469, 0.2933136 , 0.38902252,\n",
              "        0.48473143, 0.58044035, 0.67614926, 0.77185817, 0.86756709,\n",
              "        0.963276  ]),\n",
              " <a list of 10 Patch objects>)"
            ]
          },
          "metadata": {
            "tags": []
          },
          "execution_count": 41
        },
        {
          "output_type": "display_data",
          "data": {
            "image/png": "[encoded data removed]",
            "text/plain": [
              "<Figure size 432x288 with 1 Axes>"
            ]
          },
          "metadata": {
            "tags": []
          }
        }
      ]
    },
    {
      "cell_type": "markdown",
      "metadata": {
        "id": "HsHNJMwlys6j"
      },
      "source": [
        "Логистическая регрессия возращает вероятности. Проверим это. Для этого рассмотрим объекты, для которых логистическая регрессия предсказала вероятность принадлежности классу 1 от 0.75 до 0.85. Оценим точность предсказания на этих объектах. При большом числе объектов в выборке точность предсказания должна быть близка к 0.8."
      ]
    },
    {
      "cell_type": "code",
      "metadata": {
        "id": "UobqaSo3uK2R"
      },
      "source": [
        "predict_proba = clf.predict_proba(X_test)[:, 1]"
      ],
      "execution_count": null,
      "outputs": []
    },
    {
      "cell_type": "code",
      "metadata": {
        "id": "r0ZZme0suZoM",
        "colab": {
          "base_uri": "https://localhost:8080/",
          "height": 35
        },
        "outputId": "4131f73c-a705-4bae-eeae-b6f356c6f5af"
      },
      "source": [
        "np.mean(Y_test[(predict_proba > 0.75) & (predict_proba < 0.85)])"
      ],
      "execution_count": null,
      "outputs": [
        {
          "output_type": "execute_result",
          "data": {
            "text/plain": [
              "0.84"
            ]
          },
          "metadata": {
            "tags": []
          },
          "execution_count": 44
        }
      ]
    }
  ]
}